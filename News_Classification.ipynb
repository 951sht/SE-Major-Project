{
 "cells": [
  {
   "cell_type": "code",
   "execution_count": null,
   "id": "d8846f93",
   "metadata": {},
   "outputs": [],
   "source": [
    "import nltk\n",
    "nltk.download('punkt')\n",
    "import pandas as pd"
   ]
  },
  {
   "cell_type": "code",
   "execution_count": null,
   "id": "c49a0312",
   "metadata": {},
   "outputs": [],
   "source": [
    "fake = pd.read_csv(\"Fake.csv\")\n",
    "true = pd.read_csv(\"True.csv\")"
   ]
  },
  {
   "cell_type": "code",
   "execution_count": null,
   "id": "0f63947f",
   "metadata": {},
   "outputs": [],
   "source": [
    "display(fake.info())"
   ]
  },
  {
   "cell_type": "code",
   "execution_count": null,
   "id": "5262bee6",
   "metadata": {},
   "outputs": [],
   "source": [
    "display(true.info())"
   ]
  },
  {
   "cell_type": "code",
   "execution_count": null,
   "id": "171c26c5",
   "metadata": {},
   "outputs": [],
   "source": [
    "display(fake.head(10))"
   ]
  },
  {
   "cell_type": "code",
   "execution_count": null,
   "id": "95936191",
   "metadata": {},
   "outputs": [],
   "source": [
    "display(true.head(10))"
   ]
  },
  {
   "cell_type": "code",
   "execution_count": null,
   "id": "dd788aba",
   "metadata": {},
   "outputs": [],
   "source": [
    "display(fake.subject.value_counts())\n",
    "display(true.subject.value_counts())"
   ]
  },
  {
   "cell_type": "code",
   "execution_count": null,
   "id": "b7731215",
   "metadata": {},
   "outputs": [],
   "source": [
    "fake['flag'] = 0\n",
    "true['flag'] = 1"
   ]
  },
  {
   "cell_type": "code",
   "execution_count": null,
   "id": "44cf3938",
   "metadata": {},
   "outputs": [],
   "source": [
    "display(fake.flag.value_counts())\n",
    "display(true.flag.value_counts())"
   ]
  },
  {
   "cell_type": "code",
   "execution_count": null,
   "id": "27d3c5cd",
   "metadata": {},
   "outputs": [],
   "source": [
    "data = pd.concat([fake, true], axis=0)"
   ]
  },
  {
   "cell_type": "code",
   "execution_count": null,
   "id": "7361cba7",
   "metadata": {},
   "outputs": [],
   "source": [
    "data = data.reset_index(drop=True)"
   ]
  },
  {
   "cell_type": "code",
   "execution_count": null,
   "id": "a0e786e5",
   "metadata": {},
   "outputs": [],
   "source": [
    "data = data.drop(['title', 'subject', 'date'], axis=1)"
   ]
  },
  {
   "cell_type": "code",
   "execution_count": null,
   "id": "1671da34",
   "metadata": {},
   "outputs": [],
   "source": [
    "data = pd.concat([fake, true], axis=0)"
   ]
  },
  {
   "cell_type": "code",
   "execution_count": null,
   "id": "52c03775",
   "metadata": {},
   "outputs": [],
   "source": [
    "print(data.columns)"
   ]
  },
  {
   "cell_type": "markdown",
   "id": "71c3a10d",
   "metadata": {},
   "source": [
    "# TOKENIZATION"
   ]
  },
  {
   "cell_type": "code",
   "execution_count": null,
   "id": "e20fb875",
   "metadata": {},
   "outputs": [],
   "source": [
    "from nltk.tokenize import word_tokenize"
   ]
  },
  {
   "cell_type": "code",
   "execution_count": null,
   "id": "dfc76eca",
   "metadata": {},
   "outputs": [],
   "source": [
    "data['text'] = data['text'].apply(word_tokenize)"
   ]
  },
  {
   "cell_type": "code",
   "execution_count": null,
   "id": "2b442136",
   "metadata": {},
   "outputs": [],
   "source": [
    "print(data.head(10))"
   ]
  },
  {
   "cell_type": "markdown",
   "id": "641a75b0",
   "metadata": {},
   "source": [
    "# STEMMING"
   ]
  },
  {
   "cell_type": "code",
   "execution_count": null,
   "id": "c2b0e281",
   "metadata": {},
   "outputs": [],
   "source": [
    "from nltk.stem.snowball import SnowballStemmer\n",
    "porter = SnowballStemmer(\"english\")"
   ]
  },
  {
   "cell_type": "code",
   "execution_count": null,
   "id": "b533c2f7",
   "metadata": {},
   "outputs": [],
   "source": [
    "def stem_it(text):\n",
    "    return [porter.stem(word) for word in text]"
   ]
  },
  {
   "cell_type": "code",
   "execution_count": null,
   "id": "9761f1b5",
   "metadata": {},
   "outputs": [],
   "source": [
    "data['text'] = data['text'].apply(stem_it)"
   ]
  },
  {
   "cell_type": "code",
   "execution_count": null,
   "id": "12350c10",
   "metadata": {},
   "outputs": [],
   "source": [
    "print(data.head(10))"
   ]
  },
  {
   "cell_type": "markdown",
   "id": "133c20f2",
   "metadata": {},
   "source": [
    "# STOPWORD REMOVAL"
   ]
  },
  {
   "cell_type": "code",
   "execution_count": null,
   "id": "fd544b52",
   "metadata": {},
   "outputs": [],
   "source": [
    "from nltk.corpus import stopwords"
   ]
  },
  {
   "cell_type": "code",
   "execution_count": null,
   "id": "fa10d7dc",
   "metadata": {},
   "outputs": [],
   "source": [
    "def stop_it(t):\n",
    "    dt = [word for word in t if len(word)>2]\n",
    "    return dt"
   ]
  },
  {
   "cell_type": "code",
   "execution_count": null,
   "id": "cb304961",
   "metadata": {},
   "outputs": [],
   "source": [
    "data['text'] = data['text'].apply(stop_it)"
   ]
  },
  {
   "cell_type": "code",
   "execution_count": null,
   "id": "4c5b87e5",
   "metadata": {},
   "outputs": [],
   "source": [
    "print(data.head(10))"
   ]
  },
  {
   "cell_type": "code",
   "execution_count": null,
   "id": "049adb20",
   "metadata": {},
   "outputs": [],
   "source": [
    "data['text'] = data['text'].apply(' '.join)"
   ]
  },
  {
   "cell_type": "code",
   "execution_count": null,
   "id": "ee93a141",
   "metadata": {},
   "outputs": [],
   "source": [
    "print(data.head(10))"
   ]
  },
  {
   "cell_type": "markdown",
   "id": "f8935396",
   "metadata": {},
   "source": [
    "# SPLITTING"
   ]
  },
  {
   "cell_type": "code",
   "execution_count": null,
   "id": "25685225",
   "metadata": {},
   "outputs": [],
   "source": [
    "from sklearn.model_selection import train_test_split\n",
    "x_train, x_test, y_train, y_test = train_test_split(data['text'], data['flag'], test_size=0.25)\n",
    "\n",
    "display(x_train.head())\n",
    "print(\"\\n\")\n",
    "display(y_train.head())"
   ]
  },
  {
   "cell_type": "markdown",
   "id": "584db782",
   "metadata": {},
   "source": [
    "# VECTORIZATION"
   ]
  },
  {
   "cell_type": "code",
   "execution_count": null,
   "id": "bcce2b45",
   "metadata": {},
   "outputs": [],
   "source": [
    "from sklearn.feature_extraction.text import TfidfVectorizer\n",
    "my_tfidf = TfidfVectorizer(max_df=0.7)\n",
    "\n",
    "tfidf_train = my_tfidf.fit_transform(x_train)\n",
    "tfidf_test = my_tfidf.transform(x_test)"
   ]
  },
  {
   "cell_type": "code",
   "execution_count": null,
   "id": "4c4138c6",
   "metadata": {},
   "outputs": [],
   "source": [
    "print(tfidf_train)"
   ]
  },
  {
   "cell_type": "markdown",
   "id": "06c49a5a",
   "metadata": {},
   "source": [
    "# LOGISTIC REGRESSION"
   ]
  },
  {
   "cell_type": "code",
   "execution_count": null,
   "id": "2c025880",
   "metadata": {},
   "outputs": [],
   "source": [
    "from sklearn.linear_model import LogisticRegression\n",
    "from sklearn.tree import DecisionTreeClassifier\n",
    "from sklearn.metrics import accuracy_score"
   ]
  },
  {
   "cell_type": "code",
   "execution_count": null,
   "id": "0fd5d3ce",
   "metadata": {},
   "outputs": [],
   "source": [
    "model_1 = LogisticRegression(max_iter=900)\n",
    "model_1.fit(tfidf_train, y_train)\n",
    "predict_1 = model_1.predict(tfidf_test)\n",
    "accur_pc = accuracy_score(y_test, predict_1)"
   ]
  },
  {
   "cell_type": "code",
   "execution_count": null,
   "id": "f7c5c7ea",
   "metadata": {},
   "outputs": [],
   "source": [
    "print(accur_pc*100)"
   ]
  },
  {
   "cell_type": "markdown",
   "id": "b78ff7e5",
   "metadata": {},
   "source": [
    "# PASSIVE-AGGRESSIVE CLASSIFIER"
   ]
  },
  {
   "cell_type": "code",
   "execution_count": null,
   "id": "d3d81379",
   "metadata": {},
   "outputs": [],
   "source": [
    "from sklearn.linear_model import PassiveAggressiveClassifier\n",
    "\n",
    "model = PassiveAggressiveClassifier(max_iter=50)\n",
    "model.fit(tfidf_train, y_train)"
   ]
  },
  {
   "cell_type": "code",
   "execution_count": null,
   "id": "47e1ed60",
   "metadata": {},
   "outputs": [],
   "source": [
    "y_predict = model.predict(tfidf_test)\n",
    "accscore = accuracy_score(y_test, y_predict)\n",
    "print(accscore*100)"
   ]
  },
  {
   "cell_type": "code",
   "execution_count": null,
   "id": "c68aee9c",
   "metadata": {},
   "outputs": [],
   "source": [
    "user_input = input(\"Enter a news article : \")\n",
    "user_input = word_tokenize(user_input) \n",
    "user_input = stem_it(user_input)\n",
    "user_input = stop_it(user_input)"
   ]
  },
  {
   "cell_type": "code",
   "execution_count": null,
   "id": "6f77133e",
   "metadata": {},
   "outputs": [],
   "source": [
    "user_input = ' '.join(user_input)"
   ]
  },
  {
   "cell_type": "code",
   "execution_count": null,
   "id": "e2a3ebce",
   "metadata": {},
   "outputs": [],
   "source": [
    "# Vectorize the user input\n",
    "user_feature = my_tfidf.transform([user_input])\n",
    "\n",
    "# Predict the category of the user input\n",
    "predicted_category_1 = model_1.predict_proba(user_feature)"
   ]
  },
  {
   "cell_type": "code",
   "execution_count": null,
   "id": "1e3b9cdf",
   "metadata": {},
   "outputs": [],
   "source": [
    "print(\"Predicted category using Logistic Regression:\", predicted_category_1)"
   ]
  },
  {
   "cell_type": "code",
   "execution_count": null,
   "id": "05b393de",
   "metadata": {},
   "outputs": [],
   "source": []
  }
 ],
 "metadata": {
  "kernelspec": {
   "display_name": "Python 3 (ipykernel)",
   "language": "python",
   "name": "python3"
  },
  "language_info": {
   "codemirror_mode": {
    "name": "ipython",
    "version": 3
   },
   "file_extension": ".py",
   "mimetype": "text/x-python",
   "name": "python",
   "nbconvert_exporter": "python",
   "pygments_lexer": "ipython3",
   "version": "3.9.7"
  }
 },
 "nbformat": 4,
 "nbformat_minor": 5
}
